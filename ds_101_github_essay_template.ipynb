{
 "cells": [
  {
   "cell_type": "markdown",
   "id": "7cd586f9",
   "metadata": {},
   "source": [
    "# Title: Analyzing Student GitHub Profile Trends and Professionalism\n",
    "## Names: Madison Fernandez, Calum O'Brien, Lilia Edwards, Kendall Bailey\n",
    "### Date: September 26, 2025\n",
    "\n"
   ]
  },
  {
   "cell_type": "markdown",
   "id": "85f432db",
   "metadata": {},
   "source": [
    "## Introduction\n",
    "Our project focuses on analyzing what types of information Digital Studies 101 students include on their GitHub profiles. We decided to examine three specific aspects of students' profiles: their majors, the inclusion of LinkedIn links and profile pictures. These features were chosen because they represent professional (LinkedIn profile) and personal branding (profile pictures). Both of these features are important in shaping how students from different majors present themselves online. To explore this, we created two visualizations. The first compares students' majors and how many students did or did not include a LinkedIn account on their GitHub profile. The second shows the relationship between students' majors and whether they included a profile picture. These two visualizations help us understand patterns in how DS 101 students choose to show their professionalism on different platforms. By investigating these patterns, we hope to identify the most common ways students choose to represent themselves online. This can also help reflect patterns on a larger scale.\n",
    "However, our analysis has some limitations. Since the data comes from a single class, the findings may not be representative of all students or GitHub users more broadly. Similarly, contextual factors, such as experience with GitHub or comfort with self-presentation, were not captured in this study. Future research could expand on this project by including a larger and more diverse sample of students. "
   ]
  },
  {
   "cell_type": "markdown",
   "id": "7d807afa",
   "metadata": {},
   "source": [
    "## Theory\n",
    "- Describe your theoretical model in 2-3 sentences\n",
    "- Give your theoretical question 1-2 sentences\n",
    "- Explain why your theoretical question is relevant 1-2 sentences"
   ]
  },
  {
   "cell_type": "markdown",
   "id": "e16a484b",
   "metadata": {},
   "source": [
    "## Data Model\n",
    "\n",
    "Provide an overview of your data model using the following outline\n",
    "- **Attribute name:** cohort\n",
    "- **Attribute data type:** string type with a controlled vocabulary: [freshman, sophomore, junior, senior, not indicated]\n",
    "- **Attribute description:** This variable collects what cohort the student is part of. It is only listed if it is explicitly indicated in the GitHub profile.\n",
    "\n",
    "\n"
   ]
  },
  {
   "cell_type": "markdown",
   "id": "95142573",
   "metadata": {},
   "source": [
    "## Analysis\n",
    "Explain in 2-3 sentences what you are hoping to show in your analysis. \n",
    "Specifically, what variables are you cross-tabulating, and what do you think they will show."
   ]
  },
  {
   "cell_type": "markdown",
   "id": "f514b78b",
   "metadata": {},
   "source": [
    "### Visualization 1 [Rename]\n",
    "\n",
    "- Insert chart here\n",
    "- Explain why chart is significant 2-3 sentences\n",
    "    - Remember the format for adding images is `(alt_text)[images/filename.png]`"
   ]
  },
  {
   "cell_type": "markdown",
   "id": "1275b443",
   "metadata": {},
   "source": [
    "### Visualization 1 [Rename]\n",
    "\n",
    "- Insert chart here\n",
    "- Explain why chart is significant 2-3 sentences\n",
    "    - Remember the format for adding images is `(alt_text)[images/filename.png]`"
   ]
  },
  {
   "cell_type": "markdown",
   "id": "18adf9a8",
   "metadata": {},
   "source": [
    "## Conclusion and Future Research\n",
    "\n",
    "- Provide a conclusion to your research\n",
    "- Indicate how the data may be limited\n",
    "- Reflect on what data you might collect in the future\n"
   ]
  }
 ],
 "metadata": {
  "kernelspec": {
   "display_name": "Python 3",
   "language": "python",
   "name": "python3"
  },
  "language_info": {
   "codemirror_mode": {
    "name": "ipython",
    "version": 3
   },
   "file_extension": ".py",
   "mimetype": "text/x-python",
   "name": "python",
   "nbconvert_exporter": "python",
   "pygments_lexer": "ipython3",
   "version": "3.13.7"
  }
 },
 "nbformat": 4,
 "nbformat_minor": 5
}
