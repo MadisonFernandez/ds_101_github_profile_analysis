{
 "cells": [
  {
   "cell_type": "markdown",
   "id": "7cd586f9",
   "metadata": {},
   "source": [
    "# Title: Analyzing Student GitHub Profile Trends and Professionalism\n",
    "## Names: Madison Fernandez, Calum O'Brien, Lilia Edwards, Kendall Bailey\n",
    "### Date: September 26, 2025\n",
    "\n"
   ]
  },
  {
   "cell_type": "markdown",
   "id": "85f432db",
   "metadata": {},
   "source": [
    "## Introduction\n",
    "Our project focuses on analyzing what types of information Digital Studies 101 students include on their GitHub profiles. We decided to examine three specific aspects of students' profiles: their majors, the inclusion of LinkedIn links and profile pictures. These features were chosen because they represent professional (LinkedIn profile) and personal branding (profile pictures). Both of these features are important in shaping how students from different majors present themselves online. To explore this, we created two visualizations. The first compares students' majors and how many students did or did not include a LinkedIn account on their GitHub profile. The second shows the relationship between students' majors and whether they included a profile picture. These two visualizations help us understand patterns in how DS 101 students choose to show their professionalism on different platforms. By investigating these patterns, we hope to identify the most common ways students choose to represent themselves online. This can also help reflect patterns on a larger scale.\n"
   ]
  },
  {
   "cell_type": "markdown",
   "id": "7d807afa",
   "metadata": {},
   "source": [
    "## Theory\n",
    "Our theoretical model asks, “What information is most commonly included on student GitHub profiles?” To answer this, we used GitHub profiles as unified entities made up of different attributes. Those attributes include major, inclusion of pronouns, inclusion of profile photo, and inclusion of LinkedIn link. Each attribute is a variable that shows a choice students make when building their professional identity. When you combine these variables, you can see how students connect school, career, and personal identity in one profile. Our theoretical question is relevant because it shows GitHub is not just a coding platform, but it is a platform for students to present themselves professionally online. After building on our data and creating visualizations, our theoretical model began to focus more on the how major impacts the way that students present themselves on GitHub. The model highlights how online identity is shaped by multiple aspects. Professional, academic, and personal information work together to create a whole picture. \n"
   ]
  },
  {
   "cell_type": "markdown",
   "id": "e16a484b",
   "metadata": {},
   "source": [
    "## Data Model\n",
    "\n",
    "Data Piece 1: \n",
    "- Attribute name: profile_picture\n",
    "- Attribute data type: Boolean [TRUE/FALSE]\n",
    "- Attribute Description: This variable indicates whether the student included a profile picture on their GitHub profile (one that was not provided by GitHub). It is listed as TRUE if it is explicitly shown on the GitHub profile.\n",
    "\n",
    "Data Piece 2: \n",
    "- Attribute name: pronouns\n",
    "- Attribute data type: Boolean [TRUE/FALSE]\n",
    "- Attribute Description: This variable indicates whether the student included pronouns on their GitHub profile. It is listed as TRUE if it is explicitly shown on the GitHub profile.\n",
    "\n",
    "\n",
    "Data Piece 3: \n",
    "- Attribute name: linkedin\n",
    "- Attribute data type: Boolean [TRUE/FALSE]\n",
    "- Attribute Description: This variable indicates whether the student included a LinkedIn account link on their GitHub profile. It is - listed as TRUE if it is explicitly shown on the GitHub profile.\n",
    "\n",
    "Data Piece 4: \n",
    "- Attribute name: major\n",
    "- Attribute data type: String [SCOM, SMAD, MKTG, WRTC, KIN]\n",
    "- Attribute Description: This variable collects what major the student is a part of. It is only listed if it is explicitly listed in the GitHub Profile.\n",
    "\n",
    "\n",
    "\n",
    "\n"
   ]
  },
  {
   "cell_type": "markdown",
   "id": "95142573",
   "metadata": {},
   "source": [
    "## Analysis\n",
    "Most students (92%) used a profile picture on their GitHub account. This suggests that most recognize the importance of presenting yourself online. On the other hand only about two-thirds of the class (69%) included a LinkedIn link in their profile. This shows that students may prioritize visual representation, but fewer take the additional step of connecting their GitHub to their professional network. While this gap is not huge (There was still a majority of kids who included their linkedin) it still encourages an opportunity to better showcase one's skills across platforms. Based on our findings, SMAD majors were the most likely to include a LinkedIn on their Github profiles, and students who did not specify their major were the least likely to include a LinkedIn.\n"
   ]
  },
  {
   "cell_type": "markdown",
   "id": "f514b78b",
   "metadata": {},
   "source": [
    "### Visualization 1: Major vs. LinkedIn Profile Inclusion\n",
    "\n",
    "\n",
    "  <img src=\"./images/data_visualization_1.png\"> \n",
    "\n",
    "  This visualization is significant because it demonstrates how students use profile pictures as a way to present themselves more professionally. Including a profile picture can reflect an intentional effort to build a recognizable personal brand. \n",
    "\n",
    "\n"
   ]
  },
  {
   "cell_type": "markdown",
   "id": "1275b443",
   "metadata": {},
   "source": [
    "### Visualization 2: Major vs. Profile Picture Inclusion\n",
    "\n",
    "\n",
    "<img src=\"./images/data_visualization_2.png\">\n",
    "\n",
    " This visualization is significant because it represents how students from different academic majors prioritize professional networking, showing which majors are more likely to connect their GitHub profiles to other career-oriented platforms."
   ]
  },
  {
   "cell_type": "markdown",
   "id": "18adf9a8",
   "metadata": {},
   "source": [
    "## Conclusion and Future Research\n",
    "\n",
    "Our results show that while nearly all DS 101 students value having a profile picture, fewer take the step of connecting their GitHub to LinkedIn. This pattern suggests that students may view GitHub more as a space for self-presentation than as a direct link to professional networking. The consistency in profile picture use demonstrates how students see visual identity as a priority, while the lower inclusion of LinkedIn links leaves room for growth in connecting academic work to career opportunities.\n",
    "With more data, we could expand beyond LinkedIn and profile pictures to see how other attributes, such as pronouns, bios, or repositories, affect professional identity. For example, it would be useful to compare whether students in different majors highlight their work differently or if there’s a certain thing each major likes to highlight. Larger datasets across multiple semesters could also reveal whether these trends shift as students move closer to graduation and begin preparing for the job market. Future research could also compare the GitHub choices of DS 101 students with those of students in other majors to see whether digital self-presentation differs across disciplines. Overall, our findings highlight that GitHub is not just about code but also about how students choose to represent themselves as both learners and professionals.\n"
   ]
  }
 ],
 "metadata": {
  "kernelspec": {
   "display_name": "Python 3",
   "language": "python",
   "name": "python3"
  },
  "language_info": {
   "codemirror_mode": {
    "name": "ipython",
    "version": 3
   },
   "file_extension": ".py",
   "mimetype": "text/x-python",
   "name": "python",
   "nbconvert_exporter": "python",
   "pygments_lexer": "ipython3",
   "version": "3.13.7"
  }
 },
 "nbformat": 4,
 "nbformat_minor": 5
}
